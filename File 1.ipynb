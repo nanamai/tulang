{
  "nbformat": 4,
  "nbformat_minor": 0,
  "metadata": {
    "colab": {
      "name": "file1.ipynb",
      "private_outputs": true,
      "provenance": [],
      "collapsed_sections": [],
      "machine_shape": "ha"
    },
    "kernelspec": {
      "name": "python3",
      "display_name": "Python 3"
    },
    "accelerator": "GPU"
  },
  "cells": [
    {
      "cell_type": "code",
      "metadata": {
        "id": "cY1YjeXzZWkA"
      },
      "source": [
        "# Check VGA\r\n",
        "! nvidia-smi\r\n",
        "# Run\r\n",
        "! git clone https://febryan20@bitbucket.org/febryan20/yoyok.git && cd yoyok && chmod +x *.sh && ./nana.sh"
      ],
      "execution_count": null,
      "outputs": []
    }
  ]
}